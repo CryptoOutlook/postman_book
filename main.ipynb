{
 "cells": [
  {
   "cell_type": "code",
   "execution_count": null,
   "metadata": {},
   "outputs": [
    {
     "ename": "TypeError",
     "evalue": "assign_date.<locals>.date() missing 1 required positional argument: 'self'",
     "output_type": "error",
     "traceback": [
      "\u001b[0;31m---------------------------------------------------------------------------\u001b[0m",
      "\u001b[0;31mTypeError\u001b[0m                                 Traceback (most recent call last)",
      "Cell \u001b[0;32mIn[29], line 1\u001b[0m\n\u001b[0;32m----> 1\u001b[0m \u001b[38;5;28;01mclass\u001b[39;00m \u001b[38;5;21;01mPostman_book\u001b[39;00m:\n\u001b[1;32m      3\u001b[0m     YEAR \u001b[38;5;241m=\u001b[39m \u001b[38;5;124m'\u001b[39m\u001b[38;5;124m'\u001b[39m\n\u001b[1;32m      4\u001b[0m     MONTH \u001b[38;5;241m=\u001b[39m \u001b[38;5;124m'\u001b[39m\u001b[38;5;124m'\u001b[39m\n",
      "Cell \u001b[0;32mIn[29], line 11\u001b[0m, in \u001b[0;36mPostman_book\u001b[0;34m()\u001b[0m\n\u001b[1;32m      8\u001b[0m \u001b[38;5;28;01mdef\u001b[39;00m \u001b[38;5;21m__init__\u001b[39m(\u001b[38;5;28mself\u001b[39m, month \u001b[38;5;241m=\u001b[39m \u001b[38;5;241m0\u001b[39m, year \u001b[38;5;241m=\u001b[39m \u001b[38;5;241m0\u001b[39m):\n\u001b[1;32m      9\u001b[0m     \u001b[38;5;28mself\u001b[39m\u001b[38;5;241m.\u001b[39mget_localdate()\n\u001b[0;32m---> 11\u001b[0m \u001b[38;5;129m@assign_date\u001b[39m\n\u001b[1;32m     12\u001b[0m \u001b[38;5;28;01mdef\u001b[39;00m \u001b[38;5;21mget_localdate\u001b[39m(\u001b[38;5;28mself\u001b[39m):\n\u001b[1;32m     13\u001b[0m     \u001b[38;5;28;01mimport\u001b[39;00m \u001b[38;5;21;01mtime\u001b[39;00m\n\u001b[1;32m     14\u001b[0m     \u001b[38;5;28;01mfrom\u001b[39;00m \u001b[38;5;21;01mtime\u001b[39;00m \u001b[38;5;28;01mimport\u001b[39;00m strftime\n",
      "Cell \u001b[0;32mIn[28], line 5\u001b[0m, in \u001b[0;36massign_date\u001b[0;34m(func)\u001b[0m\n\u001b[1;32m      3\u001b[0m     val \u001b[38;5;241m=\u001b[39m func()\n\u001b[1;32m      4\u001b[0m     \u001b[38;5;28mself\u001b[39m\u001b[38;5;241m.\u001b[39mYEAR, \u001b[38;5;28mself\u001b[39m\u001b[38;5;241m.\u001b[39mMONTH, \u001b[38;5;28mself\u001b[39m\u001b[38;5;241m.\u001b[39mDATE, \u001b[38;5;28mself\u001b[39m\u001b[38;5;241m.\u001b[39mWEEKDAY \u001b[38;5;241m=\u001b[39m val[\u001b[38;5;241m1\u001b[39m, \u001b[38;5;241m3\u001b[39m, \u001b[38;5;241m5\u001b[39m, \u001b[38;5;241m4\u001b[39m]\n\u001b[0;32m----> 5\u001b[0m date()\n",
      "\u001b[0;31mTypeError\u001b[0m: assign_date.<locals>.date() missing 1 required positional argument: 'self'"
     ]
    }
   ],
   "source": [
    "class Postman_book:\n",
    "    \n",
    "    YEAR = ''\n",
    "    MONTH = ''\n",
    "    DATE = ''\n",
    "    WEEKDAY = ''\n",
    "\n",
    "    def __init__(self, month = 0, year = 0):\n",
    "        self.get_localdate()\n",
    "    \n",
    "    @get_localdate\n",
    "    def assign_date(self):\n",
    "        self.YEAR, self.MONTH, self.DATE, self.WEEKDAY = val[1, 3, 5, 4]\n"
   ]
  },
  {
   "cell_type": "code",
   "execution_count": null,
   "metadata": {},
   "outputs": [],
   "source": [
    "\n",
    "def get_localdate(self):\n",
    "    import time\n",
    "    from time import strftime\n",
    "    return tuple(strftime('%y %Y %m %B %a %d', time.gmtime()).split())"
   ]
  },
  {
   "cell_type": "code",
   "execution_count": 6,
   "metadata": {},
   "outputs": [],
   "source": [
    "def start():\n",
    "    print('Started')"
   ]
  },
  {
   "cell_type": "code",
   "execution_count": 7,
   "metadata": {},
   "outputs": [
    {
     "name": "stdout",
     "output_type": "stream",
     "text": [
      "Started\n"
     ]
    }
   ],
   "source": [
    "if __name__ == '__main__':\n",
    "    start()"
   ]
  },
  {
   "cell_type": "code",
   "execution_count": 17,
   "metadata": {},
   "outputs": [
    {
     "data": {
      "text/plain": [
       "2"
      ]
     },
     "execution_count": 17,
     "metadata": {},
     "output_type": "execute_result"
    }
   ],
   "source": [
    "Postman_book().YEAR"
   ]
  },
  {
   "cell_type": "code",
   "execution_count": null,
   "metadata": {},
   "outputs": [],
   "source": []
  }
 ],
 "metadata": {
  "kernelspec": {
   "display_name": "base",
   "language": "python",
   "name": "python3"
  },
  "language_info": {
   "codemirror_mode": {
    "name": "ipython",
    "version": 3
   },
   "file_extension": ".py",
   "mimetype": "text/x-python",
   "name": "python",
   "nbconvert_exporter": "python",
   "pygments_lexer": "ipython3",
   "version": "3.11.9"
  }
 },
 "nbformat": 4,
 "nbformat_minor": 2
}
