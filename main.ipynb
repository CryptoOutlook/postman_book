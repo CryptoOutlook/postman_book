{
 "cells": [
  {
   "cell_type": "code",
   "execution_count": 153,
   "metadata": {},
   "outputs": [
    {
     "name": "stdout",
     "output_type": "stream",
     "text": [
      "keys - date\n"
     ]
    }
   ],
   "source": [
    "from functools import wraps\n",
    "class Postman_book:\n",
    "    \n",
    "    YEAR = ''\n",
    "    MONTH = ''\n",
    "    DATE = 'test'\n",
    "    WEEKDAY = ''\n",
    "\n",
    "    def __init__(self, month = 0, year = 0):\n",
    "        pass\n",
    "    \n",
    "    def time_fn():\n",
    "        import time\n",
    "        from time import strftime\n",
    "        val = strftime('%y %Y %m %B %a %d', time.gmtime())\n",
    "    \n",
    "    @staticmethod\n",
    "    # keys = Date or weekday or month or year\n",
    "    def get_var(keys: str = None):\n",
    "        def get_localdate(func):\n",
    "            print(f'keys - {keys}')\n",
    "            # Time Formats\n",
    "\n",
    "            time_dict = {\n",
    "            'year': '%Y', 'year:2': '%y',\n",
    "            'mon_num': '%m', 'month_str': '%B',\n",
    "            'weekday': '%a', 'date': '%d'\n",
    "            }\n",
    "\n",
    "            # To wrap the function to consider this function as its own\n",
    "\n",
    "            @wraps(func)\n",
    "            def inner(*args, **kwargs):\n",
    "                print(f'kwargs - {kwargs}')\n",
    "                if kwargs:\n",
    "                    return func(*args, **kwargs)\n",
    "                \n",
    "                # Get time in string format\n",
    "                from time import strftime, gmtime\n",
    "\n",
    "                # Extract only desired time format\n",
    "                kwargs[keys] = strftime(time_dict[keys], gmtime())\n",
    "                print(kwargs)\n",
    "                return func(*args, **kwargs)\n",
    "            return inner\n",
    "        return get_localdate\n",
    "    \n",
    "    @get_var('date')\n",
    "    def get_date(self, date: str = DATE):\n",
    "        self.DATE = date"
   ]
  },
  {
   "cell_type": "code",
   "execution_count": 154,
   "metadata": {},
   "outputs": [
    {
     "name": "stdout",
     "output_type": "stream",
     "text": [
      "test\n",
      "kwargs - {'date': '34'}\n",
      "34\n",
      "func_name: get_date\n",
      "34\n"
     ]
    }
   ],
   "source": [
    "a = Postman_book()\n",
    "print(a.DATE)\n",
    "a.get_date(date = '34')\n",
    "print(a.DATE)\n",
    "print(f'func_name: {a.get_date.__name__}')\n",
    "print(a.DATE)"
   ]
  },
  {
   "cell_type": "code",
   "execution_count": 6,
   "metadata": {},
   "outputs": [],
   "source": [
    "def start():\n",
    "    print('Started')"
   ]
  },
  {
   "cell_type": "code",
   "execution_count": 7,
   "metadata": {},
   "outputs": [
    {
     "name": "stdout",
     "output_type": "stream",
     "text": [
      "Started\n"
     ]
    }
   ],
   "source": [
    "if __name__ == '__main__':\n",
    "    start()"
   ]
  },
  {
   "cell_type": "code",
   "execution_count": 51,
   "metadata": {},
   "outputs": [
    {
     "data": {
      "text/plain": [
       "9"
      ]
     },
     "execution_count": 51,
     "metadata": {},
     "output_type": "execute_result"
    }
   ],
   "source": [
    "def add1(func):\n",
    "    def inner(a, b):\n",
    "        a, b = func(a,b)\n",
    "        return a + b\n",
    "    return inner\n",
    "\n",
    "@add1\n",
    "def eq(a, b):\n",
    "    return a, b\n",
    "\n",
    "eq(4,5)"
   ]
  },
  {
   "cell_type": "code",
   "execution_count": 41,
   "metadata": {},
   "outputs": [
    {
     "name": "stdout",
     "output_type": "stream",
     "text": [
      "DATE = 1\n",
      "Func name : get_date\n",
      "default\n"
     ]
    }
   ],
   "source": [
    "DATE = 'default'\n",
    "\n",
    "def get_localdate(func):\n",
    "    def inner(*args):\n",
    "        result = func('1')\n",
    "        print(f'Func name : {func.__name__}')\n",
    "\n",
    "        return result\n",
    "    return inner\n",
    "\n",
    "\n",
    "@get_localdate\n",
    "def get_date(date: str):\n",
    "    DATE = date\n",
    "    print(f'DATE = {DATE}')\n",
    "\n",
    "get_date()\n",
    "print(DATE)"
   ]
  },
  {
   "cell_type": "code",
   "execution_count": 43,
   "metadata": {},
   "outputs": [
    {
     "name": "stdout",
     "output_type": "stream",
     "text": [
      "2\n"
     ]
    }
   ],
   "source": [
    "test = 1\n",
    "\n",
    "def fn():\n",
    "    test = 2\n",
    "    return test\n",
    "\n",
    "test = fn()\n",
    "print(test)"
   ]
  },
  {
   "cell_type": "code",
   "execution_count": 137,
   "metadata": {},
   "outputs": [
    {
     "data": {
      "text/plain": [
       "'24 2024 11 November Sat 23'"
      ]
     },
     "execution_count": 137,
     "metadata": {},
     "output_type": "execute_result"
    }
   ],
   "source": [
    "import time\n",
    "from time import strftime\n",
    "year = '%Y'\n",
    "val = strftime('%y %Y %m %B %a %d', time.gmtime())\n",
    "val"
   ]
  }
 ],
 "metadata": {
  "kernelspec": {
   "display_name": "base",
   "language": "python",
   "name": "python3"
  },
  "language_info": {
   "codemirror_mode": {
    "name": "ipython",
    "version": 3
   },
   "file_extension": ".py",
   "mimetype": "text/x-python",
   "name": "python",
   "nbconvert_exporter": "python",
   "pygments_lexer": "ipython3",
   "version": "3.11.9"
  }
 },
 "nbformat": 4,
 "nbformat_minor": 2
}
