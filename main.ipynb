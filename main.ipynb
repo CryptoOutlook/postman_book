{
 "cells": [
  {
   "cell_type": "code",
   "execution_count": 21,
   "metadata": {},
   "outputs": [
    {
     "ename": "TypeError",
     "evalue": "'NoneType' object is not callable",
     "output_type": "error",
     "traceback": [
      "\u001b[0;31m---------------------------------------------------------------------------\u001b[0m",
      "\u001b[0;31mTypeError\u001b[0m                                 Traceback (most recent call last)",
      "Cell \u001b[0;32mIn[21], line 2\u001b[0m\n\u001b[1;32m      1\u001b[0m \u001b[38;5;28;01mfrom\u001b[39;00m \u001b[38;5;21;01mfunctools\u001b[39;00m \u001b[38;5;28;01mimport\u001b[39;00m wraps\n\u001b[0;32m----> 2\u001b[0m \u001b[38;5;28;01mclass\u001b[39;00m \u001b[38;5;21;01mPostman_book\u001b[39;00m:\n\u001b[1;32m      4\u001b[0m     YEAR \u001b[38;5;241m=\u001b[39m \u001b[38;5;124m'\u001b[39m\u001b[38;5;124m'\u001b[39m\n\u001b[1;32m      5\u001b[0m     MONTH \u001b[38;5;241m=\u001b[39m \u001b[38;5;124m'\u001b[39m\u001b[38;5;124m'\u001b[39m\n",
      "Cell \u001b[0;32mIn[21], line 55\u001b[0m, in \u001b[0;36mPostman_book\u001b[0;34m()\u001b[0m\n\u001b[1;32m     52\u001b[0m         \u001b[38;5;28;01mreturn\u001b[39;00m inner\n\u001b[1;32m     53\u001b[0m         \u001b[38;5;28;01mreturn\u001b[39;00m get_localdate\n\u001b[0;32m---> 55\u001b[0m \u001b[38;5;129m@get_keys\u001b[39m(\u001b[38;5;124m'\u001b[39m\u001b[38;5;124mdate\u001b[39m\u001b[38;5;124m'\u001b[39m)\n\u001b[1;32m     56\u001b[0m \u001b[38;5;28;01mdef\u001b[39;00m \u001b[38;5;21mget_date\u001b[39m(\u001b[38;5;28mself\u001b[39m, date: \u001b[38;5;28mstr\u001b[39m \u001b[38;5;241m=\u001b[39m DATE):\n\u001b[1;32m     57\u001b[0m     \u001b[38;5;28mself\u001b[39m\u001b[38;5;241m.\u001b[39mDATE \u001b[38;5;241m=\u001b[39m date\n",
      "\u001b[0;31mTypeError\u001b[0m: 'NoneType' object is not callable"
     ]
    }
   ],
   "source": [
    "from functools import wraps\n",
    "class Postman_book:\n",
    "    \n",
    "    YEAR = ''\n",
    "    MONTH = ''\n",
    "    DATE = 'test'\n",
    "    WEEKDAY = ''\n",
    "\n",
    "    def __init__(self, month = 0, year = 0):\n",
    "        pass\n",
    "\n",
    "    @staticmethod\n",
    "    def get_keys(*args):\n",
    "        # Time Formats\n",
    "\n",
    "        time_dict = {\n",
    "            'date': '%d', 'mon_num': '%m',\n",
    "            'year': '%Y', 'year:2': '%y',\n",
    "            'month_str': '%B', 'weekday': '%a'\n",
    "        }\n",
    "\n",
    "        func_dt = {}\n",
    "\n",
    "        for key in args:\n",
    "            func_dt[key] = time_dict[key]\n",
    "\n",
    "        def get_localdate(func):\n",
    "\n",
    "            # To wrap the function to consider this function as its own\n",
    "            @wraps(func)\n",
    "            def inner(*args, **kwargs):\n",
    "                print(f'args - {args}')\n",
    "                print(f'kwargs - {kwargs}')\n",
    "                if len(args) == 1 or kwargs:\n",
    "                    return func(*args, **kwargs)\n",
    "\n",
    "                # Get time in string format\n",
    "                from time import strftime, gmtime\n",
    "\n",
    "                # Extract only desired time format\n",
    "                if kwargs:\n",
    "                    \n",
    "                    for key in kwargs.keys():\n",
    "                        kwargs[key] = strftime(time_dict[key], gmtime())\n",
    "                else:\n",
    "                    print('else')\n",
    "\n",
    "                print(f'args - {args}')\n",
    "                print(f'kwargs - {kwargs}')\n",
    "                return func(args[0], **kwargs)\n",
    "            \n",
    "            return inner\n",
    "            return get_localdate\n",
    "\n",
    "    @get_keys('date')\n",
    "    def get_date(self, date: str = DATE):\n",
    "        self.DATE = date"
   ]
  },
  {
   "cell_type": "code",
   "execution_count": 19,
   "metadata": {},
   "outputs": [
    {
     "name": "stdout",
     "output_type": "stream",
     "text": [
      "DATE = test\n",
      "args - (<__main__.Postman_book object at 0x7fb25326af50>, '4')\n",
      "kwargs - {}\n",
      "else\n"
     ]
    },
    {
     "ename": "TypeError",
     "evalue": "'dict_values' object is not subscriptable",
     "output_type": "error",
     "traceback": [
      "\u001b[0;31m---------------------------------------------------------------------------\u001b[0m",
      "\u001b[0;31mTypeError\u001b[0m                                 Traceback (most recent call last)",
      "Cell \u001b[0;32mIn[19], line 4\u001b[0m\n\u001b[1;32m      1\u001b[0m a \u001b[38;5;241m=\u001b[39m Postman_book()\n\u001b[1;32m      2\u001b[0m \u001b[38;5;28mprint\u001b[39m(\u001b[38;5;124mf\u001b[39m\u001b[38;5;124m'\u001b[39m\u001b[38;5;124mDATE = \u001b[39m\u001b[38;5;132;01m{\u001b[39;00ma\u001b[38;5;241m.\u001b[39mDATE\u001b[38;5;132;01m}\u001b[39;00m\u001b[38;5;124m'\u001b[39m)\n\u001b[0;32m----> 4\u001b[0m a\u001b[38;5;241m.\u001b[39mget_date(\u001b[38;5;124m'\u001b[39m\u001b[38;5;124m4\u001b[39m\u001b[38;5;124m'\u001b[39m)\n\u001b[1;32m      5\u001b[0m \u001b[38;5;28mprint\u001b[39m(\u001b[38;5;124mf\u001b[39m\u001b[38;5;124m'\u001b[39m\u001b[38;5;124mDATE = \u001b[39m\u001b[38;5;132;01m{\u001b[39;00ma\u001b[38;5;241m.\u001b[39mDATE\u001b[38;5;132;01m}\u001b[39;00m\u001b[38;5;124m'\u001b[39m)\n\u001b[1;32m      7\u001b[0m \u001b[38;5;28mprint\u001b[39m(\u001b[38;5;124mf\u001b[39m\u001b[38;5;124m'\u001b[39m\u001b[38;5;124mfunc_name: \u001b[39m\u001b[38;5;132;01m{\u001b[39;00ma\u001b[38;5;241m.\u001b[39mget_date\u001b[38;5;241m.\u001b[39m\u001b[38;5;18m__name__\u001b[39m\u001b[38;5;132;01m}\u001b[39;00m\u001b[38;5;124m'\u001b[39m)\n",
      "Cell \u001b[0;32mIn[18], line 41\u001b[0m, in \u001b[0;36mPostman_book.get_localdate.<locals>.inner\u001b[0;34m(*args, **kwargs)\u001b[0m\n\u001b[1;32m     39\u001b[0m     i \u001b[38;5;241m=\u001b[39m \u001b[38;5;241m1\u001b[39m\n\u001b[1;32m     40\u001b[0m     \u001b[38;5;28;01mwhile\u001b[39;00m i \u001b[38;5;241m<\u001b[39m \u001b[38;5;28mlen\u001b[39m(args):\n\u001b[0;32m---> 41\u001b[0m         kwargs[time_dict\u001b[38;5;241m.\u001b[39mkeys()[i]] \u001b[38;5;241m=\u001b[39m time_dict\u001b[38;5;241m.\u001b[39mvalues()[i]\n\u001b[1;32m     42\u001b[0m         i \u001b[38;5;241m+\u001b[39m\u001b[38;5;241m=\u001b[39m \u001b[38;5;241m1\u001b[39m\n\u001b[1;32m     43\u001b[0m \u001b[38;5;28mprint\u001b[39m(\u001b[38;5;124mf\u001b[39m\u001b[38;5;124m'\u001b[39m\u001b[38;5;124margs - \u001b[39m\u001b[38;5;132;01m{\u001b[39;00margs\u001b[38;5;132;01m}\u001b[39;00m\u001b[38;5;124m'\u001b[39m)\n",
      "\u001b[0;31mTypeError\u001b[0m: 'dict_values' object is not subscriptable"
     ]
    }
   ],
   "source": [
    "a = Postman_book()\n",
    "print(f'DATE = {a.DATE}')\n",
    "\n",
    "a.get_date('4')\n",
    "print(f'DATE = {a.DATE}')\n",
    "\n",
    "print(f'func_name: {a.get_date.__name__}')\n",
    "print(f'DATE = {a.DATE}')"
   ]
  },
  {
   "cell_type": "code",
   "execution_count": 6,
   "metadata": {},
   "outputs": [],
   "source": [
    "def start():\n",
    "    print('Started')"
   ]
  },
  {
   "cell_type": "code",
   "execution_count": 7,
   "metadata": {},
   "outputs": [
    {
     "name": "stdout",
     "output_type": "stream",
     "text": [
      "Started\n"
     ]
    }
   ],
   "source": [
    "if __name__ == '__main__':\n",
    "    start()"
   ]
  },
  {
   "cell_type": "code",
   "execution_count": null,
   "metadata": {},
   "outputs": [],
   "source": []
  }
 ],
 "metadata": {
  "kernelspec": {
   "display_name": "base",
   "language": "python",
   "name": "python3"
  },
  "language_info": {
   "codemirror_mode": {
    "name": "ipython",
    "version": 3
   },
   "file_extension": ".py",
   "mimetype": "text/x-python",
   "name": "python",
   "nbconvert_exporter": "python",
   "pygments_lexer": "ipython3",
   "version": "3.11.9"
  }
 },
 "nbformat": 4,
 "nbformat_minor": 2
}
